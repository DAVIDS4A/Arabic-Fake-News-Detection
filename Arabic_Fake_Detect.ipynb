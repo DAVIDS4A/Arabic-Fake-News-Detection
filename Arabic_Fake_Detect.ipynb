{
 "cells": [
  {
   "cell_type": "code",
   "execution_count": 2,
   "metadata": {},
   "outputs": [],
   "source": [
    "import pandas as pd"
   ]
  },
  {
   "cell_type": "code",
   "execution_count": 3,
   "metadata": {},
   "outputs": [],
   "source": [
    "data=pd.read_csv(\"ARABIC-NEWS-MERGED-CLASS-COLLECTED.csv\")"
   ]
  },
  {
   "cell_type": "code",
   "execution_count": 4,
   "metadata": {},
   "outputs": [
    {
     "data": {
      "text/html": [
       "<div>\n",
       "<style scoped>\n",
       "    .dataframe tbody tr th:only-of-type {\n",
       "        vertical-align: middle;\n",
       "    }\n",
       "\n",
       "    .dataframe tbody tr th {\n",
       "        vertical-align: top;\n",
       "    }\n",
       "\n",
       "    .dataframe thead th {\n",
       "        text-align: right;\n",
       "    }\n",
       "</style>\n",
       "<table border=\"1\" class=\"dataframe\">\n",
       "  <thead>\n",
       "    <tr style=\"text-align: right;\">\n",
       "      <th></th>\n",
       "      <th>Title</th>\n",
       "      <th>Label</th>\n",
       "      <th>Topic</th>\n",
       "      <th>Origine</th>\n",
       "      <th>Article_date</th>\n",
       "      <th>Article_content</th>\n",
       "      <th>Article_correction</th>\n",
       "    </tr>\n",
       "  </thead>\n",
       "  <tbody>\n",
       "    <tr>\n",
       "      <th>0</th>\n",
       "      <td>54 عاما في القضاء.. نهاية حزينة لمعركة مقدسي ح...</td>\n",
       "      <td>real</td>\n",
       "      <td>politics</td>\n",
       "      <td>df1</td>\n",
       "      <td>NaN</td>\n",
       "      <td>القدس المحتلة- لن يتمكن المقدسي سامي درويش في ...</td>\n",
       "      <td>NaN</td>\n",
       "    </tr>\n",
       "    <tr>\n",
       "      <th>1</th>\n",
       "      <td>خبراء إيرانيون يشرحون لماذا لا تستعجل طهران با...</td>\n",
       "      <td>real</td>\n",
       "      <td>politics</td>\n",
       "      <td>df1</td>\n",
       "      <td>NaN</td>\n",
       "      <td>طهران- منذ الهجوم الإسرائيلي على القنصلية الإي...</td>\n",
       "      <td>NaN</td>\n",
       "    </tr>\n",
       "    <tr>\n",
       "      <th>2</th>\n",
       "      <td>فلسطيني يقود فريق خبراء بإيطاليا لبناء قضية إب...</td>\n",
       "      <td>real</td>\n",
       "      <td>politics</td>\n",
       "      <td>df1</td>\n",
       "      <td>NaN</td>\n",
       "      <td>غادر المحامي الفلسطيني راجي صوراني قطاع غزة رف...</td>\n",
       "      <td>NaN</td>\n",
       "    </tr>\n",
       "    <tr>\n",
       "      <th>3</th>\n",
       "      <td>مستوطنون يهاجمون قرى نابلس بحماية من جنود الاح...</td>\n",
       "      <td>real</td>\n",
       "      <td>politics</td>\n",
       "      <td>df1</td>\n",
       "      <td>NaN</td>\n",
       "      <td>نابلس- لليوم الثاني على التوالي، تتعرض قرية دو...</td>\n",
       "      <td>NaN</td>\n",
       "    </tr>\n",
       "    <tr>\n",
       "      <th>4</th>\n",
       "      <td>جدل قانوني حول ترشح جاكوب زوما لانتخابات جنوب ...</td>\n",
       "      <td>real</td>\n",
       "      <td>politics</td>\n",
       "      <td>df1</td>\n",
       "      <td>NaN</td>\n",
       "      <td>بريتوريا- تقدمت اللجنة المستقلة للانتخابات في ...</td>\n",
       "      <td>NaN</td>\n",
       "    </tr>\n",
       "  </tbody>\n",
       "</table>\n",
       "</div>"
      ],
      "text/plain": [
       "                                               Title Label     Topic Origine  \\\n",
       "0  54 عاما في القضاء.. نهاية حزينة لمعركة مقدسي ح...  real  politics     df1   \n",
       "1  خبراء إيرانيون يشرحون لماذا لا تستعجل طهران با...  real  politics     df1   \n",
       "2  فلسطيني يقود فريق خبراء بإيطاليا لبناء قضية إب...  real  politics     df1   \n",
       "3  مستوطنون يهاجمون قرى نابلس بحماية من جنود الاح...  real  politics     df1   \n",
       "4  جدل قانوني حول ترشح جاكوب زوما لانتخابات جنوب ...  real  politics     df1   \n",
       "\n",
       "  Article_date                                    Article_content  \\\n",
       "0          NaN  القدس المحتلة- لن يتمكن المقدسي سامي درويش في ...   \n",
       "1          NaN  طهران- منذ الهجوم الإسرائيلي على القنصلية الإي...   \n",
       "2          NaN  غادر المحامي الفلسطيني راجي صوراني قطاع غزة رف...   \n",
       "3          NaN  نابلس- لليوم الثاني على التوالي، تتعرض قرية دو...   \n",
       "4          NaN  بريتوريا- تقدمت اللجنة المستقلة للانتخابات في ...   \n",
       "\n",
       "  Article_correction  \n",
       "0                NaN  \n",
       "1                NaN  \n",
       "2                NaN  \n",
       "3                NaN  \n",
       "4                NaN  "
      ]
     },
     "execution_count": 4,
     "metadata": {},
     "output_type": "execute_result"
    }
   ],
   "source": [
    "data.head()"
   ]
  },
  {
   "cell_type": "code",
   "execution_count": 5,
   "metadata": {},
   "outputs": [
    {
     "data": {
      "text/plain": [
       "(56055, 7)"
      ]
     },
     "execution_count": 5,
     "metadata": {},
     "output_type": "execute_result"
    }
   ],
   "source": [
    "data.shape"
   ]
  },
  {
   "cell_type": "code",
   "execution_count": 6,
   "metadata": {},
   "outputs": [
    {
     "data": {
      "text/plain": [
       "Index(['Title', 'Label', 'Topic', 'Origine', 'Article_date', 'Article_content',\n",
       "       'Article_correction'],\n",
       "      dtype='object')"
      ]
     },
     "execution_count": 6,
     "metadata": {},
     "output_type": "execute_result"
    }
   ],
   "source": [
    "data.columns"
   ]
  },
  {
   "cell_type": "code",
   "execution_count": 7,
   "metadata": {},
   "outputs": [
    {
     "data": {
      "text/html": [
       "<div>\n",
       "<style scoped>\n",
       "    .dataframe tbody tr th:only-of-type {\n",
       "        vertical-align: middle;\n",
       "    }\n",
       "\n",
       "    .dataframe tbody tr th {\n",
       "        vertical-align: top;\n",
       "    }\n",
       "\n",
       "    .dataframe thead th {\n",
       "        text-align: right;\n",
       "    }\n",
       "</style>\n",
       "<table border=\"1\" class=\"dataframe\">\n",
       "  <thead>\n",
       "    <tr style=\"text-align: right;\">\n",
       "      <th></th>\n",
       "      <th>Title</th>\n",
       "      <th>Label</th>\n",
       "      <th>Topic</th>\n",
       "      <th>Origine</th>\n",
       "      <th>Article_date</th>\n",
       "      <th>Article_content</th>\n",
       "      <th>Article_correction</th>\n",
       "    </tr>\n",
       "  </thead>\n",
       "  <tbody>\n",
       "    <tr>\n",
       "      <th>count</th>\n",
       "      <td>12032</td>\n",
       "      <td>55149</td>\n",
       "      <td>49037</td>\n",
       "      <td>56055</td>\n",
       "      <td>10618</td>\n",
       "      <td>49973</td>\n",
       "      <td>2465</td>\n",
       "    </tr>\n",
       "    <tr>\n",
       "      <th>unique</th>\n",
       "      <td>7648</td>\n",
       "      <td>12</td>\n",
       "      <td>86</td>\n",
       "      <td>8</td>\n",
       "      <td>5318</td>\n",
       "      <td>12471</td>\n",
       "      <td>2419</td>\n",
       "    </tr>\n",
       "    <tr>\n",
       "      <th>top</th>\n",
       "      <td>اليمن -Yemen حملة COVID-19 vs F19</td>\n",
       "      <td>زائف</td>\n",
       "      <td>رياضة</td>\n",
       "      <td>df3</td>\n",
       "      <td>2024-04-12T01:59:53+03:00</td>\n",
       "      <td>[]</td>\n",
       "      <td>['']</td>\n",
       "    </tr>\n",
       "    <tr>\n",
       "      <th>freq</th>\n",
       "      <td>200</td>\n",
       "      <td>37764</td>\n",
       "      <td>17035</td>\n",
       "      <td>37784</td>\n",
       "      <td>342</td>\n",
       "      <td>150</td>\n",
       "      <td>38</td>\n",
       "    </tr>\n",
       "  </tbody>\n",
       "</table>\n",
       "</div>"
      ],
      "text/plain": [
       "                                    Title  Label  Topic Origine  \\\n",
       "count                               12032  55149  49037   56055   \n",
       "unique                               7648     12     86       8   \n",
       "top     اليمن -Yemen حملة COVID-19 vs F19   زائف  رياضة     df3   \n",
       "freq                                  200  37764  17035   37784   \n",
       "\n",
       "                     Article_date Article_content Article_correction  \n",
       "count                       10618           49973               2465  \n",
       "unique                       5318           12471               2419  \n",
       "top     2024-04-12T01:59:53+03:00              []               ['']  \n",
       "freq                          342             150                 38  "
      ]
     },
     "execution_count": 7,
     "metadata": {},
     "output_type": "execute_result"
    }
   ],
   "source": [
    "data.describe()"
   ]
  },
  {
   "cell_type": "code",
   "execution_count": 8,
   "metadata": {},
   "outputs": [
    {
     "data": {
      "text/plain": [
       "Title                 44023\n",
       "Label                   906\n",
       "Topic                  7018\n",
       "Origine                   0\n",
       "Article_date          45437\n",
       "Article_content        6082\n",
       "Article_correction    53590\n",
       "dtype: int64"
      ]
     },
     "execution_count": 8,
     "metadata": {},
     "output_type": "execute_result"
    }
   ],
   "source": [
    "data.isnull().sum()"
   ]
  },
  {
   "cell_type": "markdown",
   "metadata": {},
   "source": [
    "### DATA PREPROCESSING"
   ]
  },
  {
   "cell_type": "code",
   "execution_count": 9,
   "metadata": {},
   "outputs": [],
   "source": [
    "columns=[\"Title\",\"Topic\",\"Origine\",\"Article_date\",\"Article_correction\"]"
   ]
  },
  {
   "cell_type": "code",
   "execution_count": 10,
   "metadata": {},
   "outputs": [],
   "source": [
    "data_v1=data.drop(columns=columns,axis=1)"
   ]
  },
  {
   "cell_type": "code",
   "execution_count": 11,
   "metadata": {},
   "outputs": [
    {
     "data": {
      "text/html": [
       "<div>\n",
       "<style scoped>\n",
       "    .dataframe tbody tr th:only-of-type {\n",
       "        vertical-align: middle;\n",
       "    }\n",
       "\n",
       "    .dataframe tbody tr th {\n",
       "        vertical-align: top;\n",
       "    }\n",
       "\n",
       "    .dataframe thead th {\n",
       "        text-align: right;\n",
       "    }\n",
       "</style>\n",
       "<table border=\"1\" class=\"dataframe\">\n",
       "  <thead>\n",
       "    <tr style=\"text-align: right;\">\n",
       "      <th></th>\n",
       "      <th>Label</th>\n",
       "      <th>Article_content</th>\n",
       "    </tr>\n",
       "  </thead>\n",
       "  <tbody>\n",
       "    <tr>\n",
       "      <th>0</th>\n",
       "      <td>real</td>\n",
       "      <td>القدس المحتلة- لن يتمكن المقدسي سامي درويش في ...</td>\n",
       "    </tr>\n",
       "    <tr>\n",
       "      <th>1</th>\n",
       "      <td>real</td>\n",
       "      <td>طهران- منذ الهجوم الإسرائيلي على القنصلية الإي...</td>\n",
       "    </tr>\n",
       "    <tr>\n",
       "      <th>2</th>\n",
       "      <td>real</td>\n",
       "      <td>غادر المحامي الفلسطيني راجي صوراني قطاع غزة رف...</td>\n",
       "    </tr>\n",
       "    <tr>\n",
       "      <th>3</th>\n",
       "      <td>real</td>\n",
       "      <td>نابلس- لليوم الثاني على التوالي، تتعرض قرية دو...</td>\n",
       "    </tr>\n",
       "    <tr>\n",
       "      <th>4</th>\n",
       "      <td>real</td>\n",
       "      <td>بريتوريا- تقدمت اللجنة المستقلة للانتخابات في ...</td>\n",
       "    </tr>\n",
       "  </tbody>\n",
       "</table>\n",
       "</div>"
      ],
      "text/plain": [
       "  Label                                    Article_content\n",
       "0  real  القدس المحتلة- لن يتمكن المقدسي سامي درويش في ...\n",
       "1  real  طهران- منذ الهجوم الإسرائيلي على القنصلية الإي...\n",
       "2  real  غادر المحامي الفلسطيني راجي صوراني قطاع غزة رف...\n",
       "3  real  نابلس- لليوم الثاني على التوالي، تتعرض قرية دو...\n",
       "4  real  بريتوريا- تقدمت اللجنة المستقلة للانتخابات في ..."
      ]
     },
     "execution_count": 11,
     "metadata": {},
     "output_type": "execute_result"
    }
   ],
   "source": [
    "data_v1.head()"
   ]
  },
  {
   "cell_type": "code",
   "execution_count": 12,
   "metadata": {},
   "outputs": [
    {
     "data": {
      "text/plain": [
       "Label               906\n",
       "Article_content    6082\n",
       "dtype: int64"
      ]
     },
     "execution_count": 12,
     "metadata": {},
     "output_type": "execute_result"
    }
   ],
   "source": [
    "data_v1.isnull().sum()"
   ]
  },
  {
   "cell_type": "code",
   "execution_count": 13,
   "metadata": {},
   "outputs": [],
   "source": [
    "# Delete rows with empty values\n",
    "data_v2=data_v1.dropna(axis=0)"
   ]
  },
  {
   "cell_type": "code",
   "execution_count": 14,
   "metadata": {},
   "outputs": [
    {
     "data": {
      "text/plain": [
       "Label              0\n",
       "Article_content    0\n",
       "dtype: int64"
      ]
     },
     "execution_count": 14,
     "metadata": {},
     "output_type": "execute_result"
    }
   ],
   "source": [
    "data_v2.isnull().sum()"
   ]
  },
  {
   "cell_type": "code",
   "execution_count": 15,
   "metadata": {},
   "outputs": [
    {
     "data": {
      "text/plain": [
       "49973"
      ]
     },
     "execution_count": 15,
     "metadata": {},
     "output_type": "execute_result"
    }
   ],
   "source": [
    "data_v2.shape[0]"
   ]
  },
  {
   "cell_type": "code",
   "execution_count": 16,
   "metadata": {},
   "outputs": [
    {
     "data": {
      "text/plain": [
       "array(['real', 'fake', 'زائف', 'صحيح'], dtype=object)"
      ]
     },
     "execution_count": 16,
     "metadata": {},
     "output_type": "execute_result"
    }
   ],
   "source": [
    "data_v2[\"Label\"].unique()"
   ]
  },
  {
   "cell_type": "code",
   "execution_count": 17,
   "metadata": {},
   "outputs": [
    {
     "name": "stderr",
     "output_type": "stream",
     "text": [
      "C:\\Users\\NEXUS COMPUTERS\\miniconda3\\envs\\myenv\\lib\\site-packages\\ipykernel_launcher.py:1: SettingWithCopyWarning: \n",
      "A value is trying to be set on a copy of a slice from a DataFrame.\n",
      "Try using .loc[row_indexer,col_indexer] = value instead\n",
      "\n",
      "See the caveats in the documentation: https://pandas.pydata.org/pandas-docs/stable/user_guide/indexing.html#returning-a-view-versus-a-copy\n",
      "  \"\"\"Entry point for launching an IPython kernel.\n",
      "C:\\Users\\NEXUS COMPUTERS\\miniconda3\\envs\\myenv\\lib\\site-packages\\ipykernel_launcher.py:2: SettingWithCopyWarning: \n",
      "A value is trying to be set on a copy of a slice from a DataFrame.\n",
      "Try using .loc[row_indexer,col_indexer] = value instead\n",
      "\n",
      "See the caveats in the documentation: https://pandas.pydata.org/pandas-docs/stable/user_guide/indexing.html#returning-a-view-versus-a-copy\n",
      "  \n"
     ]
    }
   ],
   "source": [
    "data_v2[\"Label\"]=data_v2[\"Label\"].replace({\"صحيح\":\"real\"})\n",
    "data_v2[\"Label\"]=data_v2[\"Label\"].replace({\"زائف\":\"fake\"})"
   ]
  },
  {
   "cell_type": "code",
   "execution_count": 18,
   "metadata": {},
   "outputs": [
    {
     "data": {
      "text/plain": [
       "array(['real', 'fake'], dtype=object)"
      ]
     },
     "execution_count": 18,
     "metadata": {},
     "output_type": "execute_result"
    }
   ],
   "source": [
    "data_v2[\"Label\"].unique()"
   ]
  },
  {
   "cell_type": "code",
   "execution_count": 19,
   "metadata": {},
   "outputs": [],
   "source": [
    "from sklearn.preprocessing import LabelEncoder"
   ]
  },
  {
   "cell_type": "code",
   "execution_count": 20,
   "metadata": {},
   "outputs": [],
   "source": [
    "encoder=LabelEncoder()"
   ]
  },
  {
   "cell_type": "code",
   "execution_count": 21,
   "metadata": {},
   "outputs": [
    {
     "name": "stderr",
     "output_type": "stream",
     "text": [
      "C:\\Users\\NEXUS COMPUTERS\\miniconda3\\envs\\myenv\\lib\\site-packages\\ipykernel_launcher.py:1: SettingWithCopyWarning: \n",
      "A value is trying to be set on a copy of a slice from a DataFrame.\n",
      "Try using .loc[row_indexer,col_indexer] = value instead\n",
      "\n",
      "See the caveats in the documentation: https://pandas.pydata.org/pandas-docs/stable/user_guide/indexing.html#returning-a-view-versus-a-copy\n",
      "  \"\"\"Entry point for launching an IPython kernel.\n"
     ]
    }
   ],
   "source": [
    "data_v2[\"Label\"]=encoder.fit_transform(data_v2[\"Label\"])"
   ]
  },
  {
   "cell_type": "code",
   "execution_count": 22,
   "metadata": {},
   "outputs": [
    {
     "data": {
      "text/html": [
       "<div>\n",
       "<style scoped>\n",
       "    .dataframe tbody tr th:only-of-type {\n",
       "        vertical-align: middle;\n",
       "    }\n",
       "\n",
       "    .dataframe tbody tr th {\n",
       "        vertical-align: top;\n",
       "    }\n",
       "\n",
       "    .dataframe thead th {\n",
       "        text-align: right;\n",
       "    }\n",
       "</style>\n",
       "<table border=\"1\" class=\"dataframe\">\n",
       "  <thead>\n",
       "    <tr style=\"text-align: right;\">\n",
       "      <th></th>\n",
       "      <th>Label</th>\n",
       "      <th>Article_content</th>\n",
       "    </tr>\n",
       "  </thead>\n",
       "  <tbody>\n",
       "    <tr>\n",
       "      <th>0</th>\n",
       "      <td>1</td>\n",
       "      <td>القدس المحتلة- لن يتمكن المقدسي سامي درويش في ...</td>\n",
       "    </tr>\n",
       "    <tr>\n",
       "      <th>1</th>\n",
       "      <td>1</td>\n",
       "      <td>طهران- منذ الهجوم الإسرائيلي على القنصلية الإي...</td>\n",
       "    </tr>\n",
       "    <tr>\n",
       "      <th>2</th>\n",
       "      <td>1</td>\n",
       "      <td>غادر المحامي الفلسطيني راجي صوراني قطاع غزة رف...</td>\n",
       "    </tr>\n",
       "    <tr>\n",
       "      <th>3</th>\n",
       "      <td>1</td>\n",
       "      <td>نابلس- لليوم الثاني على التوالي، تتعرض قرية دو...</td>\n",
       "    </tr>\n",
       "    <tr>\n",
       "      <th>4</th>\n",
       "      <td>1</td>\n",
       "      <td>بريتوريا- تقدمت اللجنة المستقلة للانتخابات في ...</td>\n",
       "    </tr>\n",
       "  </tbody>\n",
       "</table>\n",
       "</div>"
      ],
      "text/plain": [
       "   Label                                    Article_content\n",
       "0      1  القدس المحتلة- لن يتمكن المقدسي سامي درويش في ...\n",
       "1      1  طهران- منذ الهجوم الإسرائيلي على القنصلية الإي...\n",
       "2      1  غادر المحامي الفلسطيني راجي صوراني قطاع غزة رف...\n",
       "3      1  نابلس- لليوم الثاني على التوالي، تتعرض قرية دو...\n",
       "4      1  بريتوريا- تقدمت اللجنة المستقلة للانتخابات في ..."
      ]
     },
     "execution_count": 22,
     "metadata": {},
     "output_type": "execute_result"
    }
   ],
   "source": [
    "data_v2.head()"
   ]
  },
  {
   "cell_type": "code",
   "execution_count": 23,
   "metadata": {},
   "outputs": [
    {
     "name": "stdout",
     "output_type": "stream",
     "text": [
      "44313\n",
      "5660\n",
      "44313\n",
      "5660\n"
     ]
    }
   ],
   "source": [
    "# Shuffle the DataFrame\n",
    "data_v2_shuffled = data_v2.sample(frac=1, random_state=42)\n",
    "\n",
    "# Calculate the number of \"real\" and \"fake\" labels\n",
    "num_real = (data_v2[\"Label\"] == 1).sum()\n",
    "num_fake = (data_v2[\"Label\"] == 0).sum()\n",
    "\n",
    "print(num_fake)\n",
    "print(num_real)\n",
    "\n",
    "# Calculate the proportion of each label\n",
    "prop_real = num_real / len(data_v2)\n",
    "prop_fake = num_fake / len(data_v2)\n",
    "\n",
    "# Split the shuffled DataFrame into \"real\" and \"fake\" parts\n",
    "data_real = data_v2_shuffled[data_v2_shuffled[\"Label\"] == 1]\n",
    "data_fake = data_v2_shuffled[data_v2_shuffled[\"Label\"] == 0]\n",
    "\n",
    "# Calculate the number of samples for each label in the shuffled DataFrame\n",
    "num_real_shuffled = int(len(data_v2_shuffled) * prop_real)\n",
    "num_fake_shuffled = int(len(data_v2_shuffled) * prop_fake)\n",
    "print(num_fake_shuffled )\n",
    "print(num_real_shuffled )\n",
    "\n",
    "# Take the required number of samples for each label\n",
    "data_real_shuffled = data_real.sample(n=num_real_shuffled, random_state=42)\n",
    "data_fake_shuffled = data_fake.sample(n=num_fake_shuffled, random_state=42)\n",
    "\n",
    "# Concatenate the shuffled \"real\" and \"fake\" parts back together\n",
    "data_v2_shuffled_proportionate = pd.concat([data_real_shuffled, data_fake_shuffled])\n",
    "\n",
    "# Shuffle the concatenated DataFrame again to mix the \"real\" and \"fake\" samples\n",
    "data_v2_shuffled_proportionate = data_v2_shuffled_proportionate.sample(frac=1, random_state=42)"
   ]
  },
  {
   "cell_type": "code",
   "execution_count": 24,
   "metadata": {},
   "outputs": [
    {
     "data": {
      "text/html": [
       "<div>\n",
       "<style scoped>\n",
       "    .dataframe tbody tr th:only-of-type {\n",
       "        vertical-align: middle;\n",
       "    }\n",
       "\n",
       "    .dataframe tbody tr th {\n",
       "        vertical-align: top;\n",
       "    }\n",
       "\n",
       "    .dataframe thead th {\n",
       "        text-align: right;\n",
       "    }\n",
       "</style>\n",
       "<table border=\"1\" class=\"dataframe\">\n",
       "  <thead>\n",
       "    <tr style=\"text-align: right;\">\n",
       "      <th></th>\n",
       "      <th>Label</th>\n",
       "      <th>Article_content</th>\n",
       "    </tr>\n",
       "  </thead>\n",
       "  <tbody>\n",
       "    <tr>\n",
       "      <th>46117</th>\n",
       "      <td>0</td>\n",
       "      <td>لا صحة لخبر رفع الحجر الصحي عن جميع ولايات الج...</td>\n",
       "    </tr>\n",
       "    <tr>\n",
       "      <th>4445</th>\n",
       "      <td>0</td>\n",
       "      <td>['الإدعاء\\nصحيفة \"المصري اليوم\" نشرت خبر بيقول...</td>\n",
       "    </tr>\n",
       "    <tr>\n",
       "      <th>10681</th>\n",
       "      <td>0</td>\n",
       "      <td>التصميم مفبرك والجزيرة لم تنشر خبرًا عن سيطرة ...</td>\n",
       "    </tr>\n",
       "    <tr>\n",
       "      <th>44590</th>\n",
       "      <td>1</td>\n",
       "      <td>قصة بول ألكسندر الذي يعيش داخل إسطوانة حديدية ...</td>\n",
       "    </tr>\n",
       "    <tr>\n",
       "      <th>44093</th>\n",
       "      <td>0</td>\n",
       "      <td>وزارة الصحة الفلسطينية تنفي اتهام حسين الشيخ ب...</td>\n",
       "    </tr>\n",
       "  </tbody>\n",
       "</table>\n",
       "</div>"
      ],
      "text/plain": [
       "       Label                                    Article_content\n",
       "46117      0  لا صحة لخبر رفع الحجر الصحي عن جميع ولايات الج...\n",
       "4445       0  ['الإدعاء\\nصحيفة \"المصري اليوم\" نشرت خبر بيقول...\n",
       "10681      0  التصميم مفبرك والجزيرة لم تنشر خبرًا عن سيطرة ...\n",
       "44590      1  قصة بول ألكسندر الذي يعيش داخل إسطوانة حديدية ...\n",
       "44093      0  وزارة الصحة الفلسطينية تنفي اتهام حسين الشيخ ب..."
      ]
     },
     "execution_count": 24,
     "metadata": {},
     "output_type": "execute_result"
    }
   ],
   "source": [
    "data_v2_shuffled_proportionate.head()"
   ]
  },
  {
   "cell_type": "code",
   "execution_count": 28,
   "metadata": {},
   "outputs": [
    {
     "data": {
      "text/plain": [
       "'غادر المحامي الفلسطيني راجي صوراني قطاع غزة رفقة عائلته مع احتدام الحرب لينضم إلى زملائه في صقلية بإيطاليا لمحاولة تقديم إسرائيل إلى محكمة العدل الدولية. ورد ذلك في تقرير نشرته \"الجزيرة الإنجليزية\" وكتبته الصحفية المستقلة ستيفانيا دينوتي قالت فيه إن فريقا من المحامين من المركز الفلسطيني لحقوق الإنسان والخبراء الإيطاليين يقودهم المحامي صوراني بدأ يعمل خلال الشهرين الماضيين على بناء قضية إبادة جماعية ضد إسرائيل. وأضافت أنها شاهدت في مدينة ميسينا بصقلية الإيطالية بمكتب البروفيسور تريستينو مارينييلو الأستاذ بجامعة جون مورس بليفربول/المملكة المتحدة والخبير في العدالة الجنائية الدولية وحقوق الإنسان والذي تستشيره العديد من الحكومات وغير الحكومات، أكواما من الوثائق باللغتين الإنجليزية والعربية. وقالت إن الفريق اتخذ من مدينة ميسينا في جنوب إيطاليا، والتي تطل على مياه البحر الأبيض المتوسط من جهة وبركان إتنا الذي ينبعث منه الدخان من جهة أخرى، مكانا لعمله. وقال مارينييلو للجزيرة إنهم يعتقدون أنها طريقة جيدة حتى يكونوا أكثر إنتاجية في مكان يمكنهم فيه بالفعل فصل أنفسهم عن الأهوال المستمرة، \"على الرغم من أن ذلك قد يبدو مستحيلا هذه الأيام، كما اعتبرنا ذلك فرصة لزميلنا من غزة لالتقاط الأنفاس بعد ما كان يمر به\". وقال الصوراني بابتسامة متعبة، ولا يزال مندهشا من وصوله إلى صقلية، وهو المكان الذي قال إنه يذكره بوطنه \"لدي زميلان إيطاليان عظيمان\". الصوراني هو واحد من الفلسطينيين القلائل الذين غادروا غزة مع عائلته، حيث عبروا الحدود إلى مصر في أواخر فبراير/شباط بعد أن نجوا بصعوبة من هجوم جوي إسرائيلي. ودعاه مارينيلو إلى ميسينا، مسقط رأسه، لفك الضغط والعمل على القضية. وقال مارينييلو إنهم ظلوا منذ سنوات يوثقون الفظائع التي مرت بها عائلات غزة، \"ومن خلال هذا التعاون المهني، ولدت صداقة حقيقية للغاية\". عمل مارينييلو وصوراني معا منذ عام 2020 في قضايا تعود إلى حصار عام 2014، واحتجاجات الحدود لعام 2018، وأزمة عام 2021 التي شهدت إطلاق صواريخ من غزة وضربات جوية من قبل إسرائيل. وقد جمعوا آلاف الشهادات لأسر حزينة قتلت القوات الإسرائيلية أقاربها. وقال مارينييلو إن كل هذه الشهادات السابقة تثبت أن الحرب لم تبدأ في السابع من أكتوبر/تشرين الأول الماضي، وأنها عدوان ممنهج يحتاج إلى معالجة من خلال الأدوات القانونية الصحيحة. وأضاف: \"من خلال عملنا نريد إضفاء الطابع الإنساني على أولئك الذين جردوا من إنسانيتهم. بعض الضحايا الذين سنمثلهم في لاهاي هم هند رجب، التي قتلت في سيارة مع أعمامها وأبناء عمومتها في سن السادسة، ونور ناصر أبو النور، أحد زملائنا المحامين\". وكان أبو النور محاميا في المركز الفلسطيني لحقوق الإنسان استشهد في هجمات إسرائيلية استهدفت مركزهم في فبراير/شباط الماضي. وكذلك استشهدت دانا ياغي (26 عاما)، وهي من زملائهم، في هجوم بعد يومين.    ويستمر مارينييلو في القول: \"ما نشهده غير مسبوق. والأكثر إثارة للقلق هو أن الأشخاص الذين يوثقون الفظائع يموتون أيضا، وبالتالي تنمحي الأدلة على ما يحدث. العالم يراقب فقط إسرائيل وهي تتجاوز قانون حقوق الإنسان. لذلك شعرنا بالحاجة إلى تسريع معركتنا القانونية. الشيء الآخر المفقود في غزة، بصرف النظر عن الغذاء والسلامة، هو الوقت\". بعد تقديم وثائق تمهيدية للمحاكمة في عام 2021 إلى المحكمة الجنائية الدولية وعدم تلقي أي قرار لأكثر من عامين، قرر فريق المركز بدلا من ذلك الانتقال إلى محكمة العدل الدولية، وهي أعلى محكمة تابعة للأمم المتحدة، والتي وضعت إسرائيل مؤخرا تحت المراقبة، محذرة من خطر معقول للإبادة الجماعية في غزة. بعد عملهم الدؤوب في الشهرين الماضيين، يشعر المحامون بالثقة في أنهم جمعوا أدلة كافية لمحاكمة إسرائيل بتهمة الإبادة الجماعية وسيتوجهون قريبا إلى لاهاي. وقال مارينييلو إن القوات الإسرائيلية تعرقل مسار الحياة في غزة، \"من إعاقة الولادة واستهداف المستشفيات وأجنحة الولادة، إلى منع المساعدات الإنسانية الحيوية على الحدود والقتل الجماعي\". صوراني يعتبر نفسه أحد الناجين من الإبادة الجماعية. قال إنه خلال فترة وجوده في ميسينا، أدرك أن معظم العالم، حتى في الزوايا غير المتوقعة، يقف إلى جانب الفلسطينيين. وفي صقلية، قضى الفريق القانوني الكثير من الوقت محبوسا في العمل على القضية. لكنهم انخرطوا أيضا مع المواطنين المحليين في نقاش عام. وفي مركز مؤتمرات صالون ديلي باندير في وسط مدينة ميسينا، تجمع حوالي 300 شخص للاستماع إلى الخبراء يتحدثون عن غزة والخطوات التي يمكن للإيطاليين اتخاذها لدعم معركتهم القانونية. وسلط مارينييلو الضوء على أن الأفراد، على الرغم من المفاهيم الخاطئة المنتشرة، لديهم دور حاسم في دعم عمل المشرعين، \"لأنه بفضل المواطنين العاديين انتهى الفصل العنصري في جنوب أفريقيا. وقال خلال المحاضرة: \"بدون دعم شعبي، لا يمكن لقضية قانونية واحدة أن تغير مجرى التاريخ\". وقال المواطن في ميسينا كارميلو تشيت (65 عاما) عاما، للجزيرة، إنه منذ بداية الصراع الجاري الآن، يشعر أن هناك الكثير من الفضول والاهتمام، في إيطاليا وأماكن أخرى، مقارنة بالماضي، مشيرا إلى أن الناس العاديين يريدون أخيرا فهم المزيد بعد أن أدركوا أن وسائل الإعلام الرئيسية في إيطاليا تتحكم في السرد وتسعى بصدق إلى مساعدة القضية القانونية، \"وهذا أمر إيجابي، لأننا نأمل هذه المرة أن يحدث تغيير\". وقال صوراني إنه فوجئ بالعثور على حشد من الناس داعم للغاية للقضية الفلسطينية ويرغبون في إجراء مناقشة صريحة معه، مضيفا أن صقلية ساعدت في تحسين جودة حجته القانونية قبل الرحلة إلى هولندا. وعبر صوراني بلغة أدبية عن مشاعره حول ما يعملون عليه: \"مشاهدة بركان إتنا ذكرني بشعبي. مثل البركان، لن نهدأ أبدا حتى نحقق العدالة\".          تابع الجزيرة نت على:'"
      ]
     },
     "execution_count": 28,
     "metadata": {},
     "output_type": "execute_result"
    }
   ],
   "source": [
    "data_v2_shuffled_proportionate['Article_content'][2]"
   ]
  },
  {
   "cell_type": "code",
   "execution_count": 29,
   "metadata": {},
   "outputs": [],
   "source": [
    "import nltk\n",
    "import re\n",
    "from nltk.corpus import stopwords"
   ]
  },
  {
   "cell_type": "code",
   "execution_count": 30,
   "metadata": {},
   "outputs": [
    {
     "name": "stderr",
     "output_type": "stream",
     "text": [
      "[nltk_data] Downloading package stopwords to C:\\Users\\NEXUS\n",
      "[nltk_data]     COMPUTERS\\AppData\\Roaming\\nltk_data...\n",
      "[nltk_data]   Package stopwords is already up-to-date!\n"
     ]
    },
    {
     "data": {
      "text/plain": [
       "True"
      ]
     },
     "execution_count": 30,
     "metadata": {},
     "output_type": "execute_result"
    }
   ],
   "source": [
    "nltk.download('stopwords')"
   ]
  },
  {
   "cell_type": "code",
   "execution_count": 32,
   "metadata": {},
   "outputs": [
    {
     "name": "stdout",
     "output_type": "stream",
     "text": [
      "Collecting snowballstemmer\n",
      "  Downloading snowballstemmer-2.2.0-py2.py3-none-any.whl (93 kB)\n",
      "Installing collected packages: snowballstemmer\n",
      "Successfully installed snowballstemmer-2.2.0\n"
     ]
    }
   ],
   "source": [
    "!pip install snowballstemmer"
   ]
  },
  {
   "cell_type": "code",
   "execution_count": 37,
   "metadata": {},
   "outputs": [],
   "source": [
    "import pandas as pd\n",
    "from nltk.corpus import stopwords\n",
    "from snowballstemmer import stemmer\n",
    "import re\n",
    "\n",
    "arabic_stopwords = set(stopwords.words('arabic'))\n",
    "arabic_stemmer = stemmer('arabic')\n",
    "\n",
    "for index, row in data_v2_shuffled_proportionate.iterrows():\n",
    "    article_content = row['Article_content']  # Store content for clarity\n",
    "\n",
    "    # Remove non-Arabic characters\n",
    "    article_content = re.sub('[^\\u0621-\\u064A\\s]', ' ', article_content)\n",
    "\n",
    "    # Lowercase and split into words\n",
    "    article_content = article_content.lower().split()\n",
    "\n",
    "    # Remove stopwords and stem the words\n",
    "    article_content = [arabic_stemmer.stemWord(word) for word in article_content if not word in arabic_stopwords]\n",
    "\n",
    "    # Update the DataFrame column with the processed content\n",
    "    row['Article_content'] = ' '.join(article_content)\n",
    "\n",
    "# Update the DataFrame in-place (optional, depending on your needs)\n",
    "data_v2_shuffled_proportionate = data_v2_shuffled_proportionate.copy()  # Create a copy if needed"
   ]
  },
  {
   "cell_type": "code",
   "execution_count": 38,
   "metadata": {},
   "outputs": [
    {
     "data": {
      "text/html": [
       "<div>\n",
       "<style scoped>\n",
       "    .dataframe tbody tr th:only-of-type {\n",
       "        vertical-align: middle;\n",
       "    }\n",
       "\n",
       "    .dataframe tbody tr th {\n",
       "        vertical-align: top;\n",
       "    }\n",
       "\n",
       "    .dataframe thead th {\n",
       "        text-align: right;\n",
       "    }\n",
       "</style>\n",
       "<table border=\"1\" class=\"dataframe\">\n",
       "  <thead>\n",
       "    <tr style=\"text-align: right;\">\n",
       "      <th></th>\n",
       "      <th>Label</th>\n",
       "      <th>Article_content</th>\n",
       "    </tr>\n",
       "  </thead>\n",
       "  <tbody>\n",
       "    <tr>\n",
       "      <th>46117</th>\n",
       "      <td>0</td>\n",
       "      <td>لا صحة لخبر رفع الحجر الصحي عن جميع ولايات الج...</td>\n",
       "    </tr>\n",
       "    <tr>\n",
       "      <th>4445</th>\n",
       "      <td>0</td>\n",
       "      <td>['الإدعاء\\nصحيفة \"المصري اليوم\" نشرت خبر بيقول...</td>\n",
       "    </tr>\n",
       "    <tr>\n",
       "      <th>10681</th>\n",
       "      <td>0</td>\n",
       "      <td>التصميم مفبرك والجزيرة لم تنشر خبرًا عن سيطرة ...</td>\n",
       "    </tr>\n",
       "    <tr>\n",
       "      <th>44590</th>\n",
       "      <td>1</td>\n",
       "      <td>قصة بول ألكسندر الذي يعيش داخل إسطوانة حديدية ...</td>\n",
       "    </tr>\n",
       "    <tr>\n",
       "      <th>44093</th>\n",
       "      <td>0</td>\n",
       "      <td>وزارة الصحة الفلسطينية تنفي اتهام حسين الشيخ ب...</td>\n",
       "    </tr>\n",
       "  </tbody>\n",
       "</table>\n",
       "</div>"
      ],
      "text/plain": [
       "       Label                                    Article_content\n",
       "46117      0  لا صحة لخبر رفع الحجر الصحي عن جميع ولايات الج...\n",
       "4445       0  ['الإدعاء\\nصحيفة \"المصري اليوم\" نشرت خبر بيقول...\n",
       "10681      0  التصميم مفبرك والجزيرة لم تنشر خبرًا عن سيطرة ...\n",
       "44590      1  قصة بول ألكسندر الذي يعيش داخل إسطوانة حديدية ...\n",
       "44093      0  وزارة الصحة الفلسطينية تنفي اتهام حسين الشيخ ب..."
      ]
     },
     "execution_count": 38,
     "metadata": {},
     "output_type": "execute_result"
    }
   ],
   "source": [
    "data_v2_shuffled_proportionate.head()"
   ]
  },
  {
   "cell_type": "markdown",
   "metadata": {},
   "source": [
    "#### TOKENIZATION"
   ]
  },
  {
   "cell_type": "code",
   "execution_count": 39,
   "metadata": {},
   "outputs": [],
   "source": [
    "import tensorflow as tf\n",
    "from tensorflow import keras\n",
    "from tensorflow.keras.preprocessing.text import Tokenizer\n",
    "from tensorflow.keras.preprocessing.sequence import pad_sequences"
   ]
  },
  {
   "cell_type": "code",
   "execution_count": 40,
   "metadata": {},
   "outputs": [],
   "source": [
    "vocab_size = 10000\n",
    "embedding_dim = 16\n",
    "max_length = 100\n",
    "trunc_type='post'\n",
    "padding_type='post'\n",
    "oov_tok = \"<OOV>\"\n",
    "training_size = 40000"
   ]
  },
  {
   "cell_type": "code",
   "execution_count": 41,
   "metadata": {},
   "outputs": [],
   "source": [
    "train_val_sentences=data_v2_shuffled_proportionate[\"Article_content\"][0:training_size]\n",
    "testing_sentences=data_v2_shuffled_proportionate[\"Article_content\"][training_size:]\n",
    "training_val_labels=data_v2_shuffled_proportionate[\"Label\"][0:training_size]\n",
    "testing_labels=data_v2_shuffled_proportionate[\"Label\"][training_size:]"
   ]
  },
  {
   "cell_type": "code",
   "execution_count": 42,
   "metadata": {},
   "outputs": [],
   "source": [
    "validation_size=8000\n",
    "validation_sentences=train_val_sentences[0:validation_size]\n",
    "validation_labels=training_val_labels[0:validation_size]\n",
    "\n",
    "training_sentences=train_val_sentences[validation_size:]\n",
    "training_labels=training_val_labels[validation_size:]"
   ]
  },
  {
   "cell_type": "markdown",
   "metadata": {},
   "source": [
    "### MODEL CONSTRUCTION"
   ]
  },
  {
   "cell_type": "code",
   "execution_count": 43,
   "metadata": {},
   "outputs": [],
   "source": [
    "tokenizer=Tokenizer(num_words=vocab_size,oov_token=oov_tok)\n",
    "tokenizer.fit_on_texts(training_sentences)\n",
    "word_index=tokenizer.word_index\n",
    "\n",
    "\n",
    "training_sequences=tokenizer.texts_to_sequences(training_sentences)\n",
    "training_to_padded=pad_sequences(training_sequences,maxlen=max_length, padding=padding_type,truncating=trunc_type)\n",
    "\n",
    "validation_sequences=tokenizer.texts_to_sequences(validation_sentences)\n",
    "validation_to_padded=pad_sequences(validation_sequences,maxlen=max_length, padding=padding_type,truncating=trunc_type)\n",
    "\n",
    "testing_sequences=tokenizer.texts_to_sequences(testing_sentences)\n",
    "testing_to_padded=pad_sequences(testing_sequences, maxlen=max_length, padding=padding_type,truncating=trunc_type)"
   ]
  },
  {
   "cell_type": "code",
   "execution_count": 44,
   "metadata": {},
   "outputs": [
    {
     "name": "stdout",
     "output_type": "stream",
     "text": [
      "[  26   66  245  631 4145 2244    9  143 7431  178 6928    3  508 1075\n",
      "  119    0    0    0    0    0    0    0    0    0    0    0    0    0\n",
      "    0    0    0    0    0    0    0    0    0    0    0    0    0    0\n",
      "    0    0    0    0    0    0    0    0    0    0    0    0    0    0\n",
      "    0    0    0    0    0    0    0    0    0    0    0    0    0    0\n",
      "    0    0    0    0    0    0    0    0    0    0    0    0    0    0\n",
      "    0    0    0    0    0    0    0    0    0    0    0    0    0    0\n",
      "    0    0]\n",
      "(8000, 100)\n"
     ]
    }
   ],
   "source": [
    "print(validation_to_padded[0])\n",
    "print(validation_to_padded.shape)"
   ]
  },
  {
   "cell_type": "code",
   "execution_count": 45,
   "metadata": {},
   "outputs": [],
   "source": [
    "model=tf.keras.Sequential(\n",
    "    [\n",
    "        tf.keras.layers.Embedding(vocab_size,embedding_dim, input_length=max_length),\n",
    "        tf.keras.layers.Bidirectional(tf.keras.layers.LSTM(max_length)),\n",
    "        tf.keras.layers.Dense(max_length, activation='relu'),\n",
    "        tf.keras.layers.Dense(1, activation='sigmoid')\n",
    "    ]\n",
    ")"
   ]
  },
  {
   "cell_type": "code",
   "execution_count": 53,
   "metadata": {},
   "outputs": [
    {
     "name": "stdout",
     "output_type": "stream",
     "text": [
      "Model: \"sequential\"\n",
      "_________________________________________________________________\n",
      "Layer (type)                 Output Shape              Param #   \n",
      "=================================================================\n",
      "embedding (Embedding)        (None, 100, 16)           160000    \n",
      "_________________________________________________________________\n",
      "bidirectional (Bidirectional (None, 200)               93600     \n",
      "_________________________________________________________________\n",
      "dense (Dense)                (None, 100)               20100     \n",
      "_________________________________________________________________\n",
      "dense_1 (Dense)              (None, 1)                 101       \n",
      "=================================================================\n",
      "Total params: 273,801\n",
      "Trainable params: 273,801\n",
      "Non-trainable params: 0\n",
      "_________________________________________________________________\n"
     ]
    }
   ],
   "source": [
    "model.summary()"
   ]
  },
  {
   "cell_type": "code",
   "execution_count": 46,
   "metadata": {},
   "outputs": [],
   "source": [
    "model.compile(loss='binary_crossentropy', optimizer='adam', metrics=['accuracy'] )"
   ]
  },
  {
   "cell_type": "code",
   "execution_count": 48,
   "metadata": {},
   "outputs": [
    {
     "name": "stdout",
     "output_type": "stream",
     "text": [
      "Epoch 1/5\n",
      "1000/1000 - 75s - loss: 0.0071 - accuracy: 0.9979 - val_loss: 0.0174 - val_accuracy: 0.9944\n",
      "Epoch 2/5\n",
      "1000/1000 - 79s - loss: 0.0023 - accuracy: 0.9992 - val_loss: 0.0104 - val_accuracy: 0.9970\n",
      "Epoch 3/5\n",
      "1000/1000 - 79s - loss: 7.9627e-04 - accuracy: 0.9997 - val_loss: 0.0091 - val_accuracy: 0.9975\n",
      "Epoch 4/5\n",
      "1000/1000 - 79s - loss: 0.0010 - accuracy: 0.9998 - val_loss: 0.0136 - val_accuracy: 0.9964\n",
      "Epoch 5/5\n",
      "1000/1000 - 80s - loss: 0.0013 - accuracy: 0.9998 - val_loss: 0.0110 - val_accuracy: 0.9959\n"
     ]
    }
   ],
   "source": [
    "import numpy as np\n",
    "training_labels_np = np.array(training_labels)\n",
    "validation_labels_np = np.array(validation_labels)\n",
    "num_epochs=5\n",
    "history=model.fit(training_to_padded, training_labels_np, epochs=num_epochs, validation_data=(validation_to_padded,validation_labels_np), verbose=2)"
   ]
  },
  {
   "cell_type": "code",
   "execution_count": 49,
   "metadata": {},
   "outputs": [],
   "source": [
    "predictions=model.predict(testing_to_padded)"
   ]
  },
  {
   "cell_type": "code",
   "execution_count": 50,
   "metadata": {},
   "outputs": [],
   "source": [
    "predictions=predictions.round()"
   ]
  },
  {
   "cell_type": "code",
   "execution_count": 51,
   "metadata": {},
   "outputs": [
    {
     "data": {
      "text/plain": [
       "array([[0.],\n",
       "       [0.],\n",
       "       [0.],\n",
       "       ...,\n",
       "       [0.],\n",
       "       [1.],\n",
       "       [0.]], dtype=float32)"
      ]
     },
     "execution_count": 51,
     "metadata": {},
     "output_type": "execute_result"
    }
   ],
   "source": [
    "predictions"
   ]
  },
  {
   "cell_type": "code",
   "execution_count": 55,
   "metadata": {},
   "outputs": [
    {
     "name": "stdout",
     "output_type": "stream",
     "text": [
      "Precision: 0.9794168096054888\n",
      "Recall: 0.9913194444444444\n",
      "F1-score: 0.9853321829163072\n"
     ]
    }
   ],
   "source": [
    "from sklearn.metrics import precision_score, recall_score, f1_score\n",
    "\n",
    "# Calculate precision, recall, and f1-score\n",
    "precision = precision_score(testing_labels, predictions)\n",
    "recall = recall_score(testing_labels, predictions)\n",
    "f1 = f1_score(testing_labels, predictions)\n",
    "\n",
    "print(\"Precision:\", precision)\n",
    "print(\"Recall:\", recall)\n",
    "print(\"F1-score:\", f1)"
   ]
  },
  {
   "cell_type": "code",
   "execution_count": 58,
   "metadata": {},
   "outputs": [
    {
     "data": {
      "image/png": "[encoded data removed]",
      "text/plain": [
       "<Figure size 576x432 with 2 Axes>"
      ]
     },
     "metadata": {},
     "output_type": "display_data"
    }
   ],
   "source": [
    "import matplotlib.pyplot as plt\n",
    "import seaborn as sns\n",
    "from sklearn.metrics import confusion_matrix\n",
    "\n",
    "# Example confusion matrix\n",
    "cm = confusion_matrix(testing_labels,predictions)\n",
    "\n",
    "# Define labels for the matrix\n",
    "labels = ['True Negative', 'False Positive', 'False Negative', 'True Positive']\n",
    "categories = ['0', '1']\n",
    "\n",
    "# Plot confusion matrix\n",
    "sns.set(font_scale=1.4) # for label size\n",
    "plt.figure(figsize=(8, 6))\n",
    "sns.heatmap(cm, annot=True, fmt='g', cmap='Blues', xticklabels=categories, yticklabels=categories)\n",
    "\n",
    "plt.xlabel('Predicted labels')\n",
    "plt.ylabel('True labels')\n",
    "plt.title('Confusion Matrix')\n",
    "plt.show()\n"
   ]
  },
  {
   "cell_type": "code",
   "execution_count": 59,
   "metadata": {},
   "outputs": [
    {
     "data": {
      "text/plain": [
       "0.9965907951468966"
      ]
     },
     "execution_count": 59,
     "metadata": {},
     "output_type": "execute_result"
    }
   ],
   "source": [
    "from sklearn.metrics import accuracy_score\n",
    "accuracy_score(testing_labels,predictions)"
   ]
  },
  {
   "cell_type": "code",
   "execution_count": 60,
   "metadata": {},
   "outputs": [
    {
     "name": "stdout",
     "output_type": "stream",
     "text": [
      "              precision    recall  f1-score   support\n",
      "\n",
      "           0       1.00      1.00      1.00      8821\n",
      "           1       0.98      0.99      0.99      1152\n",
      "\n",
      "    accuracy                           1.00      9973\n",
      "   macro avg       0.99      0.99      0.99      9973\n",
      "weighted avg       1.00      1.00      1.00      9973\n",
      "\n"
     ]
    }
   ],
   "source": [
    "from sklearn.metrics import classification_report\n",
    "print(classification_report(testing_labels,predictions))"
   ]
  },
  {
   "cell_type": "code",
   "execution_count": null,
   "metadata": {},
   "outputs": [],
   "source": []
  }
 ],
 "metadata": {
  "kernelspec": {
   "display_name": "Python 3",
   "language": "python",
   "name": "python3"
  },
  "language_info": {
   "codemirror_mode": {
    "name": "ipython",
    "version": 3
   },
   "file_extension": ".py",
   "mimetype": "text/x-python",
   "name": "python",
   "nbconvert_exporter": "python",
   "pygments_lexer": "ipython3",
   "version": "3.7.9"
  }
 },
 "nbformat": 4,
 "nbformat_minor": 4
}
