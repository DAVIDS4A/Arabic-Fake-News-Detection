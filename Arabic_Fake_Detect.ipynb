{
 "cells": [
  {
   "cell_type": "code",
   "execution_count": 208,
   "metadata": {},
   "outputs": [],
   "source": [
    "import pandas as pd"
   ]
  },
  {
   "cell_type": "code",
   "execution_count": 209,
   "metadata": {},
   "outputs": [],
   "source": [
    "data=pd.read_csv(\"ARABIC-NEWS-MERGED-CLASS-COLLECTED.csv\")"
   ]
  },
  {
   "cell_type": "code",
   "execution_count": 210,
   "metadata": {},
   "outputs": [
    {
     "data": {
      "text/html": [
       "<div>\n",
       "<style scoped>\n",
       "    .dataframe tbody tr th:only-of-type {\n",
       "        vertical-align: middle;\n",
       "    }\n",
       "\n",
       "    .dataframe tbody tr th {\n",
       "        vertical-align: top;\n",
       "    }\n",
       "\n",
       "    .dataframe thead th {\n",
       "        text-align: right;\n",
       "    }\n",
       "</style>\n",
       "<table border=\"1\" class=\"dataframe\">\n",
       "  <thead>\n",
       "    <tr style=\"text-align: right;\">\n",
       "      <th></th>\n",
       "      <th>Title</th>\n",
       "      <th>Label</th>\n",
       "      <th>Topic</th>\n",
       "      <th>Origine</th>\n",
       "      <th>Article_date</th>\n",
       "      <th>Article_content</th>\n",
       "      <th>Article_correction</th>\n",
       "    </tr>\n",
       "  </thead>\n",
       "  <tbody>\n",
       "    <tr>\n",
       "      <th>0</th>\n",
       "      <td>54 عاما في القضاء.. نهاية حزينة لمعركة مقدسي ح...</td>\n",
       "      <td>real</td>\n",
       "      <td>politics</td>\n",
       "      <td>df1</td>\n",
       "      <td>NaN</td>\n",
       "      <td>القدس المحتلة- لن يتمكن المقدسي سامي درويش في ...</td>\n",
       "      <td>NaN</td>\n",
       "    </tr>\n",
       "    <tr>\n",
       "      <th>1</th>\n",
       "      <td>خبراء إيرانيون يشرحون لماذا لا تستعجل طهران با...</td>\n",
       "      <td>real</td>\n",
       "      <td>politics</td>\n",
       "      <td>df1</td>\n",
       "      <td>NaN</td>\n",
       "      <td>طهران- منذ الهجوم الإسرائيلي على القنصلية الإي...</td>\n",
       "      <td>NaN</td>\n",
       "    </tr>\n",
       "    <tr>\n",
       "      <th>2</th>\n",
       "      <td>فلسطيني يقود فريق خبراء بإيطاليا لبناء قضية إب...</td>\n",
       "      <td>real</td>\n",
       "      <td>politics</td>\n",
       "      <td>df1</td>\n",
       "      <td>NaN</td>\n",
       "      <td>غادر المحامي الفلسطيني راجي صوراني قطاع غزة رف...</td>\n",
       "      <td>NaN</td>\n",
       "    </tr>\n",
       "    <tr>\n",
       "      <th>3</th>\n",
       "      <td>مستوطنون يهاجمون قرى نابلس بحماية من جنود الاح...</td>\n",
       "      <td>real</td>\n",
       "      <td>politics</td>\n",
       "      <td>df1</td>\n",
       "      <td>NaN</td>\n",
       "      <td>نابلس- لليوم الثاني على التوالي، تتعرض قرية دو...</td>\n",
       "      <td>NaN</td>\n",
       "    </tr>\n",
       "    <tr>\n",
       "      <th>4</th>\n",
       "      <td>جدل قانوني حول ترشح جاكوب زوما لانتخابات جنوب ...</td>\n",
       "      <td>real</td>\n",
       "      <td>politics</td>\n",
       "      <td>df1</td>\n",
       "      <td>NaN</td>\n",
       "      <td>بريتوريا- تقدمت اللجنة المستقلة للانتخابات في ...</td>\n",
       "      <td>NaN</td>\n",
       "    </tr>\n",
       "  </tbody>\n",
       "</table>\n",
       "</div>"
      ],
      "text/plain": [
       "                                               Title Label     Topic Origine  \\\n",
       "0  54 عاما في القضاء.. نهاية حزينة لمعركة مقدسي ح...  real  politics     df1   \n",
       "1  خبراء إيرانيون يشرحون لماذا لا تستعجل طهران با...  real  politics     df1   \n",
       "2  فلسطيني يقود فريق خبراء بإيطاليا لبناء قضية إب...  real  politics     df1   \n",
       "3  مستوطنون يهاجمون قرى نابلس بحماية من جنود الاح...  real  politics     df1   \n",
       "4  جدل قانوني حول ترشح جاكوب زوما لانتخابات جنوب ...  real  politics     df1   \n",
       "\n",
       "  Article_date                                    Article_content  \\\n",
       "0          NaN  القدس المحتلة- لن يتمكن المقدسي سامي درويش في ...   \n",
       "1          NaN  طهران- منذ الهجوم الإسرائيلي على القنصلية الإي...   \n",
       "2          NaN  غادر المحامي الفلسطيني راجي صوراني قطاع غزة رف...   \n",
       "3          NaN  نابلس- لليوم الثاني على التوالي، تتعرض قرية دو...   \n",
       "4          NaN  بريتوريا- تقدمت اللجنة المستقلة للانتخابات في ...   \n",
       "\n",
       "  Article_correction  \n",
       "0                NaN  \n",
       "1                NaN  \n",
       "2                NaN  \n",
       "3                NaN  \n",
       "4                NaN  "
      ]
     },
     "execution_count": 210,
     "metadata": {},
     "output_type": "execute_result"
    }
   ],
   "source": [
    "data.head()"
   ]
  },
  {
   "cell_type": "code",
   "execution_count": 211,
   "metadata": {},
   "outputs": [
    {
     "data": {
      "text/plain": [
       "(56055, 7)"
      ]
     },
     "execution_count": 211,
     "metadata": {},
     "output_type": "execute_result"
    }
   ],
   "source": [
    "data.shape"
   ]
  },
  {
   "cell_type": "code",
   "execution_count": 212,
   "metadata": {},
   "outputs": [
    {
     "data": {
      "text/plain": [
       "Index(['Title', 'Label', 'Topic', 'Origine', 'Article_date', 'Article_content',\n",
       "       'Article_correction'],\n",
       "      dtype='object')"
      ]
     },
     "execution_count": 212,
     "metadata": {},
     "output_type": "execute_result"
    }
   ],
   "source": [
    "data.columns"
   ]
  },
  {
   "cell_type": "code",
   "execution_count": 213,
   "metadata": {},
   "outputs": [
    {
     "data": {
      "text/html": [
       "<div>\n",
       "<style scoped>\n",
       "    .dataframe tbody tr th:only-of-type {\n",
       "        vertical-align: middle;\n",
       "    }\n",
       "\n",
       "    .dataframe tbody tr th {\n",
       "        vertical-align: top;\n",
       "    }\n",
       "\n",
       "    .dataframe thead th {\n",
       "        text-align: right;\n",
       "    }\n",
       "</style>\n",
       "<table border=\"1\" class=\"dataframe\">\n",
       "  <thead>\n",
       "    <tr style=\"text-align: right;\">\n",
       "      <th></th>\n",
       "      <th>Title</th>\n",
       "      <th>Label</th>\n",
       "      <th>Topic</th>\n",
       "      <th>Origine</th>\n",
       "      <th>Article_date</th>\n",
       "      <th>Article_content</th>\n",
       "      <th>Article_correction</th>\n",
       "    </tr>\n",
       "  </thead>\n",
       "  <tbody>\n",
       "    <tr>\n",
       "      <th>count</th>\n",
       "      <td>12032</td>\n",
       "      <td>55149</td>\n",
       "      <td>49037</td>\n",
       "      <td>56055</td>\n",
       "      <td>10618</td>\n",
       "      <td>49973</td>\n",
       "      <td>2465</td>\n",
       "    </tr>\n",
       "    <tr>\n",
       "      <th>unique</th>\n",
       "      <td>7648</td>\n",
       "      <td>12</td>\n",
       "      <td>86</td>\n",
       "      <td>8</td>\n",
       "      <td>5318</td>\n",
       "      <td>12471</td>\n",
       "      <td>2419</td>\n",
       "    </tr>\n",
       "    <tr>\n",
       "      <th>top</th>\n",
       "      <td>اليمن -Yemen حملة COVID-19 vs F19</td>\n",
       "      <td>زائف</td>\n",
       "      <td>رياضة</td>\n",
       "      <td>df3</td>\n",
       "      <td>2024-04-12T01:59:53+03:00</td>\n",
       "      <td>[]</td>\n",
       "      <td>['']</td>\n",
       "    </tr>\n",
       "    <tr>\n",
       "      <th>freq</th>\n",
       "      <td>200</td>\n",
       "      <td>37764</td>\n",
       "      <td>17035</td>\n",
       "      <td>37784</td>\n",
       "      <td>342</td>\n",
       "      <td>150</td>\n",
       "      <td>38</td>\n",
       "    </tr>\n",
       "  </tbody>\n",
       "</table>\n",
       "</div>"
      ],
      "text/plain": [
       "                                    Title  Label  Topic Origine  \\\n",
       "count                               12032  55149  49037   56055   \n",
       "unique                               7648     12     86       8   \n",
       "top     اليمن -Yemen حملة COVID-19 vs F19   زائف  رياضة     df3   \n",
       "freq                                  200  37764  17035   37784   \n",
       "\n",
       "                     Article_date Article_content Article_correction  \n",
       "count                       10618           49973               2465  \n",
       "unique                       5318           12471               2419  \n",
       "top     2024-04-12T01:59:53+03:00              []               ['']  \n",
       "freq                          342             150                 38  "
      ]
     },
     "execution_count": 213,
     "metadata": {},
     "output_type": "execute_result"
    }
   ],
   "source": [
    "data.describe()"
   ]
  },
  {
   "cell_type": "code",
   "execution_count": 214,
   "metadata": {},
   "outputs": [
    {
     "data": {
      "text/plain": [
       "Title                 44023\n",
       "Label                   906\n",
       "Topic                  7018\n",
       "Origine                   0\n",
       "Article_date          45437\n",
       "Article_content        6082\n",
       "Article_correction    53590\n",
       "dtype: int64"
      ]
     },
     "execution_count": 214,
     "metadata": {},
     "output_type": "execute_result"
    }
   ],
   "source": [
    "data.isnull().sum()"
   ]
  },
  {
   "cell_type": "markdown",
   "metadata": {},
   "source": [
    "### DATA PREPROCESSING"
   ]
  },
  {
   "cell_type": "code",
   "execution_count": 215,
   "metadata": {},
   "outputs": [],
   "source": [
    "columns=[\"Title\",\"Topic\",\"Origine\",\"Article_date\",\"Article_correction\"]"
   ]
  },
  {
   "cell_type": "code",
   "execution_count": 216,
   "metadata": {},
   "outputs": [],
   "source": [
    "data_v1=data.drop(columns=columns,axis=1)"
   ]
  },
  {
   "cell_type": "code",
   "execution_count": 217,
   "metadata": {},
   "outputs": [
    {
     "data": {
      "text/html": [
       "<div>\n",
       "<style scoped>\n",
       "    .dataframe tbody tr th:only-of-type {\n",
       "        vertical-align: middle;\n",
       "    }\n",
       "\n",
       "    .dataframe tbody tr th {\n",
       "        vertical-align: top;\n",
       "    }\n",
       "\n",
       "    .dataframe thead th {\n",
       "        text-align: right;\n",
       "    }\n",
       "</style>\n",
       "<table border=\"1\" class=\"dataframe\">\n",
       "  <thead>\n",
       "    <tr style=\"text-align: right;\">\n",
       "      <th></th>\n",
       "      <th>Label</th>\n",
       "      <th>Article_content</th>\n",
       "    </tr>\n",
       "  </thead>\n",
       "  <tbody>\n",
       "    <tr>\n",
       "      <th>0</th>\n",
       "      <td>real</td>\n",
       "      <td>القدس المحتلة- لن يتمكن المقدسي سامي درويش في ...</td>\n",
       "    </tr>\n",
       "    <tr>\n",
       "      <th>1</th>\n",
       "      <td>real</td>\n",
       "      <td>طهران- منذ الهجوم الإسرائيلي على القنصلية الإي...</td>\n",
       "    </tr>\n",
       "    <tr>\n",
       "      <th>2</th>\n",
       "      <td>real</td>\n",
       "      <td>غادر المحامي الفلسطيني راجي صوراني قطاع غزة رف...</td>\n",
       "    </tr>\n",
       "    <tr>\n",
       "      <th>3</th>\n",
       "      <td>real</td>\n",
       "      <td>نابلس- لليوم الثاني على التوالي، تتعرض قرية دو...</td>\n",
       "    </tr>\n",
       "    <tr>\n",
       "      <th>4</th>\n",
       "      <td>real</td>\n",
       "      <td>بريتوريا- تقدمت اللجنة المستقلة للانتخابات في ...</td>\n",
       "    </tr>\n",
       "  </tbody>\n",
       "</table>\n",
       "</div>"
      ],
      "text/plain": [
       "  Label                                    Article_content\n",
       "0  real  القدس المحتلة- لن يتمكن المقدسي سامي درويش في ...\n",
       "1  real  طهران- منذ الهجوم الإسرائيلي على القنصلية الإي...\n",
       "2  real  غادر المحامي الفلسطيني راجي صوراني قطاع غزة رف...\n",
       "3  real  نابلس- لليوم الثاني على التوالي، تتعرض قرية دو...\n",
       "4  real  بريتوريا- تقدمت اللجنة المستقلة للانتخابات في ..."
      ]
     },
     "execution_count": 217,
     "metadata": {},
     "output_type": "execute_result"
    }
   ],
   "source": [
    "data_v1.head()"
   ]
  },
  {
   "cell_type": "code",
   "execution_count": 218,
   "metadata": {},
   "outputs": [
    {
     "data": {
      "text/plain": [
       "Label               906\n",
       "Article_content    6082\n",
       "dtype: int64"
      ]
     },
     "execution_count": 218,
     "metadata": {},
     "output_type": "execute_result"
    }
   ],
   "source": [
    "data_v1.isnull().sum()"
   ]
  },
  {
   "cell_type": "code",
   "execution_count": 219,
   "metadata": {},
   "outputs": [],
   "source": [
    "# Delete rows with empty values\n",
    "data_v2=data_v1.dropna(axis=0)"
   ]
  },
  {
   "cell_type": "code",
   "execution_count": 220,
   "metadata": {},
   "outputs": [
    {
     "data": {
      "text/plain": [
       "Label              0\n",
       "Article_content    0\n",
       "dtype: int64"
      ]
     },
     "execution_count": 220,
     "metadata": {},
     "output_type": "execute_result"
    }
   ],
   "source": [
    "data_v2.isnull().sum()"
   ]
  },
  {
   "cell_type": "code",
   "execution_count": 221,
   "metadata": {},
   "outputs": [
    {
     "data": {
      "text/plain": [
       "49973"
      ]
     },
     "execution_count": 221,
     "metadata": {},
     "output_type": "execute_result"
    }
   ],
   "source": [
    "data_v2.shape[0]"
   ]
  },
  {
   "cell_type": "code",
   "execution_count": 222,
   "metadata": {},
   "outputs": [
    {
     "data": {
      "text/plain": [
       "array(['real', 'fake', 'زائف', 'صحيح'], dtype=object)"
      ]
     },
     "execution_count": 222,
     "metadata": {},
     "output_type": "execute_result"
    }
   ],
   "source": [
    "data_v2[\"Label\"].unique()"
   ]
  },
  {
   "cell_type": "code",
   "execution_count": 223,
   "metadata": {},
   "outputs": [
    {
     "name": "stderr",
     "output_type": "stream",
     "text": [
      "C:\\Users\\NEXUS COMPUTERS\\miniconda3\\envs\\myenv\\lib\\site-packages\\ipykernel_launcher.py:1: SettingWithCopyWarning: \n",
      "A value is trying to be set on a copy of a slice from a DataFrame.\n",
      "Try using .loc[row_indexer,col_indexer] = value instead\n",
      "\n",
      "See the caveats in the documentation: https://pandas.pydata.org/pandas-docs/stable/user_guide/indexing.html#returning-a-view-versus-a-copy\n",
      "  \"\"\"Entry point for launching an IPython kernel.\n",
      "C:\\Users\\NEXUS COMPUTERS\\miniconda3\\envs\\myenv\\lib\\site-packages\\ipykernel_launcher.py:2: SettingWithCopyWarning: \n",
      "A value is trying to be set on a copy of a slice from a DataFrame.\n",
      "Try using .loc[row_indexer,col_indexer] = value instead\n",
      "\n",
      "See the caveats in the documentation: https://pandas.pydata.org/pandas-docs/stable/user_guide/indexing.html#returning-a-view-versus-a-copy\n",
      "  \n"
     ]
    }
   ],
   "source": [
    "data_v2[\"Label\"]=data_v2[\"Label\"].replace({\"صحيح\":\"real\"})\n",
    "data_v2[\"Label\"]=data_v2[\"Label\"].replace({\"زائف\":\"fake\"})"
   ]
  },
  {
   "cell_type": "code",
   "execution_count": 224,
   "metadata": {},
   "outputs": [
    {
     "data": {
      "text/plain": [
       "array(['real', 'fake'], dtype=object)"
      ]
     },
     "execution_count": 224,
     "metadata": {},
     "output_type": "execute_result"
    }
   ],
   "source": [
    "data_v2[\"Label\"].unique()"
   ]
  },
  {
   "cell_type": "code",
   "execution_count": 225,
   "metadata": {},
   "outputs": [],
   "source": [
    "from sklearn.preprocessing import LabelEncoder"
   ]
  },
  {
   "cell_type": "code",
   "execution_count": 226,
   "metadata": {},
   "outputs": [],
   "source": [
    "encoder=LabelEncoder()"
   ]
  },
  {
   "cell_type": "code",
   "execution_count": 227,
   "metadata": {},
   "outputs": [
    {
     "name": "stderr",
     "output_type": "stream",
     "text": [
      "C:\\Users\\NEXUS COMPUTERS\\miniconda3\\envs\\myenv\\lib\\site-packages\\ipykernel_launcher.py:1: SettingWithCopyWarning: \n",
      "A value is trying to be set on a copy of a slice from a DataFrame.\n",
      "Try using .loc[row_indexer,col_indexer] = value instead\n",
      "\n",
      "See the caveats in the documentation: https://pandas.pydata.org/pandas-docs/stable/user_guide/indexing.html#returning-a-view-versus-a-copy\n",
      "  \"\"\"Entry point for launching an IPython kernel.\n"
     ]
    }
   ],
   "source": [
    "data_v2[\"Label\"]=encoder.fit_transform(data_v2[\"Label\"])"
   ]
  },
  {
   "cell_type": "code",
   "execution_count": 228,
   "metadata": {},
   "outputs": [
    {
     "data": {
      "text/html": [
       "<div>\n",
       "<style scoped>\n",
       "    .dataframe tbody tr th:only-of-type {\n",
       "        vertical-align: middle;\n",
       "    }\n",
       "\n",
       "    .dataframe tbody tr th {\n",
       "        vertical-align: top;\n",
       "    }\n",
       "\n",
       "    .dataframe thead th {\n",
       "        text-align: right;\n",
       "    }\n",
       "</style>\n",
       "<table border=\"1\" class=\"dataframe\">\n",
       "  <thead>\n",
       "    <tr style=\"text-align: right;\">\n",
       "      <th></th>\n",
       "      <th>Label</th>\n",
       "      <th>Article_content</th>\n",
       "    </tr>\n",
       "  </thead>\n",
       "  <tbody>\n",
       "    <tr>\n",
       "      <th>0</th>\n",
       "      <td>1</td>\n",
       "      <td>القدس المحتلة- لن يتمكن المقدسي سامي درويش في ...</td>\n",
       "    </tr>\n",
       "    <tr>\n",
       "      <th>1</th>\n",
       "      <td>1</td>\n",
       "      <td>طهران- منذ الهجوم الإسرائيلي على القنصلية الإي...</td>\n",
       "    </tr>\n",
       "    <tr>\n",
       "      <th>2</th>\n",
       "      <td>1</td>\n",
       "      <td>غادر المحامي الفلسطيني راجي صوراني قطاع غزة رف...</td>\n",
       "    </tr>\n",
       "    <tr>\n",
       "      <th>3</th>\n",
       "      <td>1</td>\n",
       "      <td>نابلس- لليوم الثاني على التوالي، تتعرض قرية دو...</td>\n",
       "    </tr>\n",
       "    <tr>\n",
       "      <th>4</th>\n",
       "      <td>1</td>\n",
       "      <td>بريتوريا- تقدمت اللجنة المستقلة للانتخابات في ...</td>\n",
       "    </tr>\n",
       "  </tbody>\n",
       "</table>\n",
       "</div>"
      ],
      "text/plain": [
       "   Label                                    Article_content\n",
       "0      1  القدس المحتلة- لن يتمكن المقدسي سامي درويش في ...\n",
       "1      1  طهران- منذ الهجوم الإسرائيلي على القنصلية الإي...\n",
       "2      1  غادر المحامي الفلسطيني راجي صوراني قطاع غزة رف...\n",
       "3      1  نابلس- لليوم الثاني على التوالي، تتعرض قرية دو...\n",
       "4      1  بريتوريا- تقدمت اللجنة المستقلة للانتخابات في ..."
      ]
     },
     "execution_count": 228,
     "metadata": {},
     "output_type": "execute_result"
    }
   ],
   "source": [
    "data_v2.head()"
   ]
  },
  {
   "cell_type": "code",
   "execution_count": 229,
   "metadata": {},
   "outputs": [
    {
     "name": "stdout",
     "output_type": "stream",
     "text": [
      "44313\n",
      "5660\n",
      "44313\n",
      "5660\n"
     ]
    }
   ],
   "source": [
    "# Shuffle the DataFrame\n",
    "data_v2_shuffled = data_v2.sample(frac=1, random_state=42)\n",
    "\n",
    "# Calculate the number of \"real\" and \"fake\" labels\n",
    "num_real = (data_v2[\"Label\"] == 1).sum()\n",
    "num_fake = (data_v2[\"Label\"] == 0).sum()\n",
    "\n",
    "print(num_fake)\n",
    "print(num_real)\n",
    "\n",
    "# Calculate the proportion of each label\n",
    "prop_real = num_real / len(data_v2)\n",
    "prop_fake = num_fake / len(data_v2)\n",
    "\n",
    "# Split the shuffled DataFrame into \"real\" and \"fake\" parts\n",
    "data_real = data_v2_shuffled[data_v2_shuffled[\"Label\"] == 1]\n",
    "data_fake = data_v2_shuffled[data_v2_shuffled[\"Label\"] == 0]\n",
    "\n",
    "# Calculate the number of samples for each label in the shuffled DataFrame\n",
    "num_real_shuffled = int(len(data_v2_shuffled) * prop_real)\n",
    "num_fake_shuffled = int(len(data_v2_shuffled) * prop_fake)\n",
    "print(num_fake_shuffled )\n",
    "print(num_real_shuffled )\n",
    "\n",
    "# Take the required number of samples for each label\n",
    "data_real_shuffled = data_real.sample(n=num_real_shuffled, random_state=42)\n",
    "data_fake_shuffled = data_fake.sample(n=num_fake_shuffled, random_state=42)\n",
    "\n",
    "# Concatenate the shuffled \"real\" and \"fake\" parts back together\n",
    "data_v2_shuffled_proportionate = pd.concat([data_real_shuffled, data_fake_shuffled])\n",
    "\n",
    "# Shuffle the concatenated DataFrame again to mix the \"real\" and \"fake\" samples\n",
    "data_v2_shuffled_proportionate = data_v2_shuffled_proportionate.sample(frac=1, random_state=42)"
   ]
  },
  {
   "cell_type": "code",
   "execution_count": 230,
   "metadata": {},
   "outputs": [
    {
     "data": {
      "text/html": [
       "<div>\n",
       "<style scoped>\n",
       "    .dataframe tbody tr th:only-of-type {\n",
       "        vertical-align: middle;\n",
       "    }\n",
       "\n",
       "    .dataframe tbody tr th {\n",
       "        vertical-align: top;\n",
       "    }\n",
       "\n",
       "    .dataframe thead th {\n",
       "        text-align: right;\n",
       "    }\n",
       "</style>\n",
       "<table border=\"1\" class=\"dataframe\">\n",
       "  <thead>\n",
       "    <tr style=\"text-align: right;\">\n",
       "      <th></th>\n",
       "      <th>Label</th>\n",
       "      <th>Article_content</th>\n",
       "    </tr>\n",
       "  </thead>\n",
       "  <tbody>\n",
       "    <tr>\n",
       "      <th>46117</th>\n",
       "      <td>0</td>\n",
       "      <td>لا صحة لخبر رفع الحجر الصحي عن جميع ولايات الج...</td>\n",
       "    </tr>\n",
       "    <tr>\n",
       "      <th>4445</th>\n",
       "      <td>0</td>\n",
       "      <td>['الإدعاء\\nصحيفة \"المصري اليوم\" نشرت خبر بيقول...</td>\n",
       "    </tr>\n",
       "    <tr>\n",
       "      <th>10681</th>\n",
       "      <td>0</td>\n",
       "      <td>التصميم مفبرك والجزيرة لم تنشر خبرًا عن سيطرة ...</td>\n",
       "    </tr>\n",
       "    <tr>\n",
       "      <th>44590</th>\n",
       "      <td>1</td>\n",
       "      <td>قصة بول ألكسندر الذي يعيش داخل إسطوانة حديدية ...</td>\n",
       "    </tr>\n",
       "    <tr>\n",
       "      <th>44093</th>\n",
       "      <td>0</td>\n",
       "      <td>وزارة الصحة الفلسطينية تنفي اتهام حسين الشيخ ب...</td>\n",
       "    </tr>\n",
       "  </tbody>\n",
       "</table>\n",
       "</div>"
      ],
      "text/plain": [
       "       Label                                    Article_content\n",
       "46117      0  لا صحة لخبر رفع الحجر الصحي عن جميع ولايات الج...\n",
       "4445       0  ['الإدعاء\\nصحيفة \"المصري اليوم\" نشرت خبر بيقول...\n",
       "10681      0  التصميم مفبرك والجزيرة لم تنشر خبرًا عن سيطرة ...\n",
       "44590      1  قصة بول ألكسندر الذي يعيش داخل إسطوانة حديدية ...\n",
       "44093      0  وزارة الصحة الفلسطينية تنفي اتهام حسين الشيخ ب..."
      ]
     },
     "execution_count": 230,
     "metadata": {},
     "output_type": "execute_result"
    }
   ],
   "source": [
    "data_v2_shuffled_proportionate.head()"
   ]
  },
  {
   "cell_type": "markdown",
   "metadata": {},
   "source": [
    "#### TOKENIZATION"
   ]
  },
  {
   "cell_type": "code",
   "execution_count": 231,
   "metadata": {},
   "outputs": [],
   "source": [
    "import tensorflow as tf\n",
    "from tensorflow import keras\n",
    "from tensorflow.keras.preprocessing.text import Tokenizer\n",
    "from tensorflow.keras.preprocessing.sequence import pad_sequences"
   ]
  },
  {
   "cell_type": "code",
   "execution_count": 232,
   "metadata": {},
   "outputs": [],
   "source": [
    "vocab_size = 10000\n",
    "embedding_dim = 16\n",
    "max_length = 100\n",
    "trunc_type='post'\n",
    "padding_type='post'\n",
    "oov_tok = \"<OOV>\"\n",
    "training_size = 40000"
   ]
  },
  {
   "cell_type": "code",
   "execution_count": 233,
   "metadata": {},
   "outputs": [],
   "source": [
    "train_val_sentences=data_v2_shuffled_proportionate[\"Article_content\"][0:training_size]\n",
    "testing_sentences=data_v2_shuffled_proportionate[\"Article_content\"][training_size:]\n",
    "training_val_labels=data_v2_shuffled_proportionate[\"Label\"][0:training_size]\n",
    "testing_labels=data_v2_shuffled_proportionate[\"Label\"][training_size:]"
   ]
  },
  {
   "cell_type": "code",
   "execution_count": 235,
   "metadata": {},
   "outputs": [],
   "source": [
    "validation_size=8000\n",
    "validation_sentences=train_val_sentences[0:validation_size]\n",
    "validation_labels=training_val_labels[0:validation_size]\n",
    "\n",
    "training_sentences=train_val_sentences[validation_size:]\n",
    "training_labels=training_val_labels[validation_size:]"
   ]
  },
  {
   "cell_type": "markdown",
   "metadata": {},
   "source": [
    "### MODEL CONSTRUCTION"
   ]
  },
  {
   "cell_type": "code",
   "execution_count": 238,
   "metadata": {},
   "outputs": [],
   "source": [
    "tokenizer=Tokenizer(num_words=vocab_size,oov_token=oov_tok)\n",
    "tokenizer.fit_on_texts(training_sentences)\n",
    "word_index=tokenizer.word_index\n",
    "\n",
    "\n",
    "training_sequences=tokenizer.texts_to_sequences(training_sentences)\n",
    "training_to_padded=pad_sequences(training_sequences,maxlen=max_length, padding=padding_type,truncating=trunc_type)\n",
    "\n",
    "validation_sequences=tokenizer.texts_to_sequences(validation_sentences)\n",
    "validation_to_padded=pad_sequences(validation_sequences,maxlen=max_length, padding=padding_type,truncating=trunc_type)\n",
    "\n",
    "testing_sequences=tokenizer.texts_to_sequences(testing_sentences)\n",
    "testing_to_padded=pad_sequences(testing_sequences, maxlen=max_length, padding=padding_type,truncating=trunc_type)"
   ]
  },
  {
   "cell_type": "code",
   "execution_count": 239,
   "metadata": {},
   "outputs": [
    {
     "name": "stdout",
     "output_type": "stream",
     "text": [
      "[  16   88  253  838 3318 1389    7  101 5551  182 6463    3  403  757\n",
      "  127    0    0    0    0    0    0    0    0    0    0    0    0    0\n",
      "    0    0    0    0    0    0    0    0    0    0    0    0    0    0\n",
      "    0    0    0    0    0    0    0    0    0    0    0    0    0    0\n",
      "    0    0    0    0    0    0    0    0    0    0    0    0    0    0\n",
      "    0    0    0    0    0    0    0    0    0    0    0    0    0    0\n",
      "    0    0    0    0    0    0    0    0    0    0    0    0    0    0\n",
      "    0    0]\n",
      "(8000, 100)\n"
     ]
    }
   ],
   "source": [
    "print(validation_to_padded[0])\n",
    "print(validation_to_padded.shape)"
   ]
  },
  {
   "cell_type": "code",
   "execution_count": 244,
   "metadata": {},
   "outputs": [],
   "source": [
    "model=tf.keras.Sequential(\n",
    "    [\n",
    "        tf.keras.layers.Embedding(vocab_size,embedding_dim, input_length=max_length),\n",
    "        tf.keras.layers.Bidirectional(tf.keras.layers.LSTM(max_length)),\n",
    "        tf.keras.layers.Dense(max_length, activation='relu'),\n",
    "        tf.keras.layers.Dense(1, activation='sigmoid')\n",
    "    ]\n",
    ")"
   ]
  },
  {
   "cell_type": "code",
   "execution_count": 245,
   "metadata": {},
   "outputs": [],
   "source": [
    "model.compile(loss='binary_crossentropy', optimizer='adam', metrics=['accuracy'] )"
   ]
  },
  {
   "cell_type": "code",
   "execution_count": 246,
   "metadata": {},
   "outputs": [
    {
     "name": "stdout",
     "output_type": "stream",
     "text": [
      "1000/1000 - 77s - loss: 0.0674 - accuracy: 0.9774 - val_loss: 0.0159 - val_accuracy: 0.9954\n"
     ]
    }
   ],
   "source": [
    "import numpy as np\n",
    "training_labels_np = np.array(training_labels)\n",
    "validation_labels_np = np.array(validation_labels)\n",
    "num_epochs=1\n",
    "history=model.fit(training_to_padded, training_labels_np, epochs=num_epochs, validation_data=(validation_to_padded,validation_labels_np), verbose=2)"
   ]
  },
  {
   "cell_type": "code",
   "execution_count": 247,
   "metadata": {},
   "outputs": [],
   "source": [
    "predictions=model.predict(testing_to_padded)"
   ]
  },
  {
   "cell_type": "code",
   "execution_count": 249,
   "metadata": {},
   "outputs": [],
   "source": [
    "predictions=predictions.round()"
   ]
  },
  {
   "cell_type": "code",
   "execution_count": 251,
   "metadata": {},
   "outputs": [
    {
     "data": {
      "text/plain": [
       "array([[0.],\n",
       "       [0.],\n",
       "       [0.],\n",
       "       ...,\n",
       "       [0.],\n",
       "       [1.],\n",
       "       [0.]], dtype=float32)"
      ]
     },
     "execution_count": 251,
     "metadata": {},
     "output_type": "execute_result"
    }
   ],
   "source": [
    "predictions"
   ]
  },
  {
   "cell_type": "code",
   "execution_count": 252,
   "metadata": {},
   "outputs": [
    {
     "name": "stdout",
     "output_type": "stream",
     "text": [
      "Mean Absolute Error (MAE): 0.006116514589391357\n",
      "Mean Squared Error (MSE): 0.006116514589391357\n",
      "Root Mean Squared Error (RMSE): 0.07820814912393309\n",
      "R-squared (R²): 0.9401332953872703\n"
     ]
    }
   ],
   "source": [
    "from sklearn.metrics import mean_squared_error, mean_absolute_error, r2_score\n",
    "\n",
    "# Calculate Mean Absolute Error\n",
    "mae = mean_absolute_error(testing_labels, predictions)\n",
    "print(\"Mean Absolute Error (MAE):\", mae)\n",
    "\n",
    "# Calculate Mean Squared Error\n",
    "mse = mean_squared_error(testing_labels, predictions)\n",
    "print(\"Mean Squared Error (MSE):\", mse)\n",
    "\n",
    "# Calculate Root Mean Squared Error\n",
    "rmse = mean_squared_error(testing_labels, predictions, squared=False)\n",
    "print(\"Root Mean Squared Error (RMSE):\", rmse)\n",
    "\n",
    "# Calculate R-squared\n",
    "r2 = r2_score(testing_labels, predictions)\n",
    "print(\"R-squared (R²):\", r2)"
   ]
  },
  {
   "cell_type": "code",
   "execution_count": null,
   "metadata": {},
   "outputs": [],
   "source": []
  }
 ],
 "metadata": {
  "kernelspec": {
   "display_name": "Python 3",
   "language": "python",
   "name": "python3"
  },
  "language_info": {
   "codemirror_mode": {
    "name": "ipython",
    "version": 3
   },
   "file_extension": ".py",
   "mimetype": "text/x-python",
   "name": "python",
   "nbconvert_exporter": "python",
   "pygments_lexer": "ipython3",
   "version": "3.7.9"
  }
 },
 "nbformat": 4,
 "nbformat_minor": 4
}
